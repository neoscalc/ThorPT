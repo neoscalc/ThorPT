{
 "cells": [
  {
   "cell_type": "markdown",
   "metadata": {},
   "source": [
    "Testing the model for fluid transfer in a column with ThorPT"
   ]
  },
  {
   "cell_type": "code",
   "execution_count": null,
   "metadata": {},
   "outputs": [],
   "source": [
    "\"\"\"This cell executes ThorPT\"\"\"\n",
    "\n",
    "from thorpt_thorPT import start_ThorPT\n",
    "%matplotlib qt\n",
    "start_ThorPT.run_main_routine()"
   ]
  },
  {
   "cell_type": "code",
   "execution_count": 5,
   "metadata": {},
   "outputs": [
    {
     "name": "stdout",
     "output_type": "stream",
     "text": [
      "[                    ]0.0%\n",
      "\n",
      "[💎💎                  ]11.1%\n",
      "\n",
      "[💎💎💎💎                ]22.2%\n",
      "\n",
      "[💎💎💎💎💎💎              ]33.3%\n",
      "\n",
      "[💎💎💎💎💎💎💎💎            ]44.4%\n",
      "\n",
      "[💎💎💎💎💎💎💎💎💎💎💎         ]55.6%\n",
      "\n",
      "[💎💎💎💎💎💎💎💎💎💎💎💎💎       ]66.7%\n",
      "\n",
      "[💎💎💎💎💎💎💎💎💎💎💎💎💎💎💎     ]77.8%\n",
      "\n",
      "[💎💎💎💎💎💎💎💎💎💎💎💎💎💎💎💎💎   ]88.9%\n",
      "\n",
      "[💎💎💎💎💎💎💎💎💎💎💎💎💎💎💎💎💎💎💎💎]100.0%\n",
      "\n",
      "[💎💎💎💎💎💎💎💎💎💎💎💎💎💎💎💎💎💎💎💎]100.0%\n",
      "\n",
      "\n",
      "ThorPT HDF5 file reader finished!\n"
     ]
    }
   ],
   "source": [
    "# Import the functions\n",
    "from thorpt_thorPT.xorki import *\n",
    "\n",
    "# Read data from a hdf5 to a variable\n",
    "data = ThorPT_hdf5_reader()\n",
    "data.open_ThorPT_hdf5()\n",
    "\n",
    "# Activate the plotting module\n",
    "compPlot = ThorPT_plots(data.filename, data.mainfolder, data.rock, data.compiledrock)"
   ]
  },
  {
   "cell_type": "code",
   "execution_count": null,
   "metadata": {},
   "outputs": [],
   "source": [
    "# %matplotlib qt\n",
    "compPlot.fluid_distribution_sgm23(img_save=True, gif_save=True, x_axis_log=False)"
   ]
  },
  {
   "cell_type": "code",
   "execution_count": 6,
   "metadata": {},
   "outputs": [
    {
     "name": "stdout",
     "output_type": "stream",
     "text": [
      "rock000\n",
      "rock001\n",
      "Cleaning done!\n"
     ]
    },
    {
     "name": "stderr",
     "output_type": "stream",
     "text": [
      "c:\\Users\\Markmann\\PhD\\Projects\\ThorPT_tester\\ThorPT_0.2.3\\env_test_thorPT\\lib\\site-packages\\thorpt_thorPT\\xorki.py:2689: UserWarning: Attempting to set identical low and high ylims makes transformation singular; automatically expanding.\n",
      "  twin1.set_ylim(0, ymax+np.round(ymax*0.01, 1))\n"
     ]
    },
    {
     "name": "stdout",
     "output_type": "stream",
     "text": [
      "rock002\n",
      "Cleaning done!\n",
      "rock003\n",
      "Cleaning done!\n",
      "rock004\n",
      "Cleaning done!\n",
      "rock005\n",
      "Cleaning done!\n",
      "rock006\n",
      "Cleaning done!\n",
      "rock007\n",
      "Cleaning done!\n",
      "rock008\n",
      "Cleaning done!\n"
     ]
    }
   ],
   "source": [
    "for key in data.rock.keys():\n",
    "    print(key)\n",
    "    compPlot.phases_stack_plot(rock_tag=key, img_save=True,\n",
    "                            val_tag='volume', transparent=False, fluid_porosity=True)\n"
   ]
  },
  {
   "cell_type": "code",
   "execution_count": null,
   "metadata": {},
   "outputs": [],
   "source": [
    "%matplotlib qt\n",
    "compPlot.ternary_vs_extraction_cumVol()"
   ]
  },
  {
   "cell_type": "code",
   "execution_count": 4,
   "metadata": {},
   "outputs": [],
   "source": [
    "%matplotlib qt\n",
    "for key in data.rock.keys():\n",
    "    compPlot.garnet_visualization(key, img_save=True)"
   ]
  },
  {
   "cell_type": "code",
   "execution_count": 7,
   "metadata": {},
   "outputs": [],
   "source": [
    "compPlot.garnet_visualization('rock004', img_save=True)"
   ]
  },
  {
   "cell_type": "code",
   "execution_count": 9,
   "metadata": {},
   "outputs": [
    {
     "name": "stdout",
     "output_type": "stream",
     "text": [
      "\n",
      "Starting Garnet Diffusion from Julia package DiffusionGarnet\n",
      "Imported DiffusionGarnet\n",
      "Start simulation: 📽 ===> 🎞\n",
      "[ 90  91  92  93  94  96  99 112 184 292 362 410 412 413 415 416 418 419\n",
      " 437 468 492 500]\n"
     ]
    },
    {
     "name": "stderr",
     "output_type": "stream",
     "text": [
      "MovieWriter imagemagick unavailable; using Pillow instead.\n"
     ]
    },
    {
     "name": "stdout",
     "output_type": "stream",
     "text": [
      "The final time is:  20.0\n"
     ]
    }
   ],
   "source": [
    "compPlot.garnet_visualization_diffusion(\n",
    "    'rock004', garnet_size=1000, diffusion_time=20,\n",
    "    input_temperature=540, input_pressure=2.0,\n",
    "    img_save=True\n",
    "    )"
   ]
  },
  {
   "cell_type": "code",
   "execution_count": null,
   "metadata": {},
   "outputs": [],
   "source": [
    "%pip install -i https://test.pypi.org/simple/ thorpt-thorPT -U"
   ]
  },
  {
   "cell_type": "code",
   "execution_count": null,
   "metadata": {},
   "outputs": [],
   "source": []
  }
 ],
 "metadata": {
  "kernelspec": {
   "display_name": "Python 3 (ipykernel)",
   "language": "python",
   "name": "python3"
  },
  "language_info": {
   "codemirror_mode": {
    "name": "ipython",
    "version": 3
   },
   "file_extension": ".py",
   "mimetype": "text/x-python",
   "name": "python",
   "nbconvert_exporter": "python",
   "pygments_lexer": "ipython3",
   "version": "3.9.6"
  }
 },
 "nbformat": 4,
 "nbformat_minor": 2
}
