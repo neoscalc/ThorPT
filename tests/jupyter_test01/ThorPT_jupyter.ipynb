{
 "cells": [
  {
   "cell_type": "code",
   "execution_count": null,
   "metadata": {},
   "outputs": [],
   "source": [
    "\"\"\"This cell executes ThorPT\"\"\"\n",
    "\"\"\"'start_ThorPT' is the script running ThorPT with the settings in the '_init_' file. We come to that later.\"\"\"\n",
    "\"\"\"Please run now the cell. This will take a few minutes and the progress will be displayed.\"\"\"\n",
    "\n",
    "\"\"\"!!! Before executing set the path for theriak in the _init_ file.\"\"\"\n",
    "# Activate when ThorPT is a standalone package - update and revision needed\n",
    "# from thor_pt import start_ThorPT\n",
    "\n",
    "from thorpt_thorPT import start_ThorPT\n",
    "\n",
    "start_ThorPT.run_routine()"
   ]
  },
  {
   "cell_type": "code",
   "execution_count": null,
   "metadata": {},
   "outputs": [],
   "source": [
    "# Import plotting module from the thor_pt package - update and revision needed\n",
    "from thorpt_thorPT.taufrir02 import *\n",
    "\n",
    "# Read variables from a hdf5 output file from ThorPT\n",
    "data = ThorPT_hdf5_reader()\n",
    "data.open_ThorPT_hdf5()\n",
    "\n",
    "# Activate the plotting module - Predefined plots for evaluation\n",
    "compPlot = ThorPT_plots(data.filename, data.mainfolder, data.rock, data.compiledrock)\n",
    "\n",
    "\n",
    "\"\"\"\n",
    "Default functions are:\n",
    "boxplot_to_GIF(rock_tag='NAME')\n",
    "pt_path_plot(rock_tag='NAME')\n",
    "permeability_plot(rock_tag='NAME')\n",
    "time_int_flux_plot(rock_tag='NAME')\n",
    "porosity_plot(rock_tag='NAME')\n",
    "release_fluid_volume_plot(rock_tag='NAME')\n",
    "\"\"\"\n",
    "\n"
   ]
  },
  {
   "cell_type": "code",
   "execution_count": null,
   "metadata": {},
   "outputs": [],
   "source": [
    "compPlot.boxplot_to_GIF(rock_tag='rock0', img_save=True, gif_save=True)"
   ]
  },
  {
   "cell_type": "code",
   "execution_count": null,
   "metadata": {},
   "outputs": [],
   "source": [
    "compPlot.pt_path_plot(rock_tag='rock0', img_save=False, gif_save=False)"
   ]
  },
  {
   "cell_type": "code",
   "execution_count": null,
   "metadata": {},
   "outputs": [],
   "source": [
    "compPlot.permeability_plot(rock_tag='rock0', img_save=False, gif_save=False)"
   ]
  },
  {
   "cell_type": "code",
   "execution_count": null,
   "metadata": {},
   "outputs": [],
   "source": [
    "compPlot.time_int_flux_plot(rock_tag='rock0', img_save=False, gif_save=False)"
   ]
  },
  {
   "cell_type": "code",
   "execution_count": null,
   "metadata": {},
   "outputs": [],
   "source": [
    "compPlot.porosity_plot(rock_tag='rock0', img_save=False, gif_save=False)"
   ]
  },
  {
   "cell_type": "code",
   "execution_count": null,
   "metadata": {},
   "outputs": [],
   "source": [
    "compPlot.release_fluid_volume_plot(rock_tag='rock0', img_save=False, gif_save=False)"
   ]
  },
  {
   "cell_type": "code",
   "execution_count": null,
   "metadata": {},
   "outputs": [],
   "source": [
    "compPlot.binary_plot(rock_tag='rock0')"
   ]
  },
  {
   "cell_type": "code",
   "execution_count": null,
   "metadata": {},
   "outputs": [],
   "source": []
  }
 ],
 "metadata": {
  "kernelspec": {
   "display_name": "Python 3 (ipykernel)",
   "language": "python",
   "name": "python3"
  },
  "language_info": {
   "codemirror_mode": {
    "name": "ipython",
    "version": 3
   },
   "file_extension": ".py",
   "mimetype": "text/x-python",
   "name": "python",
   "nbconvert_exporter": "python",
   "pygments_lexer": "ipython3",
   "version": "3.9.6"
  }
 },
 "nbformat": 4,
 "nbformat_minor": 2
}
