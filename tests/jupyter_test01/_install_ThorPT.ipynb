{
 "cells": [
  {
   "cell_type": "code",
   "execution_count": null,
   "metadata": {},
   "outputs": [],
   "source": [
    "\"\"\"Before we start the software we use has some prerequisits. Therefore we run this cell to make sure all systems can run the code.\"\"\"\n",
    "\n",
    "\"\"\"Please run now the cell...\"\"\"\n",
    "\n",
    "%pip install numpy\n",
    "%pip install seaborn\n",
    "%pip install matplotlib\n",
    "%pip install pandas\n",
    "%pip install h5py\n",
    "%pip install scipy\n",
    "%pip install playsound\n",
    "%pip install imageio\n",
    "%pip install -i https://test.pypi.org/simple/ thorpt-thorPT\n",
    "\n"
   ]
  }
 ],
 "metadata": {
  "kernelspec": {
   "display_name": "Python 3 (ipykernel)",
   "language": "python",
   "name": "python3"
  },
  "language_info": {
   "codemirror_mode": {
    "name": "ipython",
    "version": 3
   },
   "file_extension": ".py",
   "mimetype": "text/x-python",
   "name": "python",
   "nbconvert_exporter": "python",
   "pygments_lexer": "ipython3",
   "version": "3.9.6"
  }
 },
 "nbformat": 4,
 "nbformat_minor": 2
}
